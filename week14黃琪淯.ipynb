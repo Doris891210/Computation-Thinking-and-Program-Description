{
  "nbformat": 4,
  "nbformat_minor": 0,
  "metadata": {
    "colab": {
      "name": "week14黃琪淯.ipynb",
      "provenance": []
    },
    "kernelspec": {
      "name": "python3",
      "display_name": "Python 3"
    }
  },
  "cells": [
    {
      "cell_type": "code",
      "metadata": {
        "id": "6a92772U37m8",
        "colab_type": "code",
        "colab": {
          "base_uri": "https://localhost:8080/",
          "height": 90
        },
        "outputId": "277ea8f6-98da-4299-fb53-d86d3d065a55"
      },
      "source": [
        "w = float(input(\"請輸入你的體重?(kg)\"))\n",
        "h = float(input(\"請輸入你的身高?(cm)\"))\n",
        "\n",
        "bmi = w/(h*h)\n",
        "print(\"你的bmi為\" , bmi)\n",
        "\n",
        "if bmi < 18:\n",
        "    print(\"體重過輕\")\n",
        "elif bmi < 24:\n",
        "    print(\"體重正常\")\n",
        "elif bmi < 27:\n",
        "    print(\"體重過重\")\n",
        "else:\n",
        "    print(\"體重肥胖\")"
      ],
      "execution_count": 1,
      "outputs": [
        {
          "output_type": "stream",
          "text": [
            "請輸入你的體重?(kg)100\n",
            "請輸入你的身高?(cm)1000\n",
            "你的bmi為 0.0001\n",
            "體重過輕\n"
          ],
          "name": "stdout"
        }
      ]
    },
    {
      "cell_type": "code",
      "metadata": {
        "id": "qQvCRnaK5rdl",
        "colab_type": "code",
        "colab": {
          "base_uri": "https://localhost:8080/",
          "height": 199
        },
        "outputId": "8c72b4c7-986b-4115-f386-1ed615abbe2f"
      },
      "source": [
        "n = 0\n",
        "while n < 10:\n",
        "    print(\"hello\")\n",
        "    n = n+1\n",
        "    "
      ],
      "execution_count": 2,
      "outputs": [
        {
          "output_type": "stream",
          "text": [
            "hello\n",
            "hello\n",
            "hello\n",
            "hello\n",
            "hello\n",
            "hello\n",
            "hello\n",
            "hello\n",
            "hello\n",
            "hello\n"
          ],
          "name": "stdout"
        }
      ]
    }
  ]
}