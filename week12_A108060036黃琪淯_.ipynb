{
  "nbformat": 4,
  "nbformat_minor": 0,
  "metadata": {
    "colab": {
      "name": "week12 A108060036黃琪淯 .ipynb",
      "provenance": []
    },
    "kernelspec": {
      "name": "python3",
      "display_name": "Python 3"
    }
  },
  "cells": [
    {
      "cell_type": "code",
      "metadata": {
        "id": "VcUxoDQn2X2J",
        "colab_type": "code",
        "colab": {
          "base_uri": "https://localhost:8080/",
          "height": 90
        },
        "outputId": "6293389e-4f9a-4969-f79d-c8ad6624e43a"
      },
      "source": [
        "noodle = input(\"有麵嗎?(yes/no)\")\n",
        "sauce = input(\"有醬料嗎(yes/no)\")\n",
        "if noodle == \"yes\":\n",
        "    if sauce ==\"yes\":\n",
        "         print(\"可做義大利麵!\")\n",
        "print(\"well done!\")\n",
        "\n"
      ],
      "execution_count": 2,
      "outputs": [
        {
          "output_type": "stream",
          "text": [
            "有麵嗎?(yes/no)yes\n",
            "有醬料嗎(yes/no)yes\n",
            "可做義大利麵!\n",
            "well done!\n"
          ],
          "name": "stdout"
        }
      ]
    }
  ]
}