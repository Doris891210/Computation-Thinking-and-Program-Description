{
  "nbformat": 4,
  "nbformat_minor": 0,
  "metadata": {
    "colab": {
      "name": "WEEK7.ipynb",
      "provenance": []
    },
    "kernelspec": {
      "name": "python3",
      "display_name": "Python 3"
    }
  },
  "cells": [
    {
      "cell_type": "code",
      "metadata": {
        "id": "nnJzPw_ZdBpZ",
        "colab_type": "code",
        "colab": {
          "base_uri": "https://localhost:8080/",
          "height": 90
        },
        "outputId": "051381e7-efe9-4746-9d3a-9efc2518173f"
      },
      "source": [
        "title=\"梨泰院\" #韓劇名稱\n",
        "release_year=\"2020\"#連載日期\n",
        "episode=\"16\" #集數\n",
        "each_episode_time_min= 60 #一集時間\n",
        "\n",
        "director=\"金成允\" #導演\n",
        "stars_1=\"朴敘俊\" #主演\n",
        "stars_2=\"金多美\" #主演\n",
        "stars_3=\"權娜拉\" #主演\n",
        "stars_4=\"劉在明\" #主演\n",
        "\n",
        "print(title) #螢幕列印\n",
        "print(release_year)\n",
        "print(episode)\n",
        "print(each_episode_time_min)"
      ],
      "execution_count": 1,
      "outputs": [
        {
          "output_type": "stream",
          "text": [
            "梨泰院\n",
            "2020\n",
            "16\n",
            "60\n"
          ],
          "name": "stdout"
        }
      ]
    }
  ]
}